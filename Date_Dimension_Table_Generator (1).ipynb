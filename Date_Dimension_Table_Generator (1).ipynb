{
  "nbformat": 4,
  "nbformat_minor": 0,
  "metadata": {
    "colab": {
      "provenance": []
    },
    "kernelspec": {
      "name": "python3",
      "display_name": "Python 3"
    },
    "language_info": {
      "name": "python"
    }
  },
  "cells": [
    {
      "cell_type": "markdown",
      "source": [
        "#Author: ALEJANDRO VALLIN ROMO"
      ],
      "metadata": {
        "id": "S0jgyLt9byND"
      }
    },
    {
      "cell_type": "markdown",
      "source": [
        "## Overview\n",
        "This project generates a comprehensive Date Dimension Table in a CSV format, which includes various attributes for dates ranging from January 1, 2023, to December 31, 2023. The date range can be easily changed to the needs of the used by modifying the variables start_date and end_date. After running the program, a CSV with the name \"date_dimension.csv\" is generated on the current working directory, and it can be visualized on Excel or PowerBI as a table where each row is a day, and each column is a different characteristic of that day.\n",
        "The table is designed for use in data warehousing and business intelligence applications for companies that do business both in Mexico and in the United States, so it provides both date formats used in Mexico (DD/MM/YYYY) and in the USA (MM/DD/YYYY), as well providing a list of holidays celebrated in both Mexico and the USA.\n",
        "\n",
        "## How to Run the Code\n",
        "Simply click on \"Runtime\" on the upper left side of Google Colab, and then click \"Run All\". Alternatively you can do Ctrl + F9.\n",
        "\n",
        "## Output\n",
        "\"date_dimension.csv\" will be generated. to download it go to \"Files\" on the left hand side of Google Colab (folder symbol) and you will see there the csv file. Click on the three dots and select \"Download\".\n",
        "\n",
        "The csv file can be opened with Excel if you like to inspect it, but is not meant to be used as an Excel file.\n",
        "Here are the first 3 lines of the table as an example of the formatting:\n",
        "\n",
        "|DateID|Date|DateMex|DateUSA|DatNum|DayName|Weekday|Week|Month|MonthName|Quarter|QuarterName|Year|MonthYear|IsHoliday|HolidayName|\n",
        "|---|---|---|---|---|---|---|---|---|---|---|---|---|---|---|---|\n",
        "|20230101|2023-01-01|01/01/2023|01/01/2023|1|Sunday|0|52|1|January|1|Q1|2023|Jan-2023|1|New Year's Day|\n",
        "|20230102|2023-01-02|02/01/2023|01/02/2023|2|Monday|1|1|1|January|1|Q1|2023|Jan-2023|0|NaN|\n",
        "|20230103|2023-01-03|03/01/2023|01/03/2023|3|Tuesday|1|1|1|January|1|Q1|2023|Jan-2023|0|Nan|\n",
        "\n",
        "## Future\n",
        "A few holidays still need to be added, as well as \"dynamic\" holidays such as Labor day un the USA (The first Monday of September).\n",
        "I plan to have two tables, one for Holidays in Mexico, and another one for Holidays in the USA. This means that the column \"IsHoliday\" will have to be divided into something like \"IsHolidayMex\" and \"IsHolidayUSA\", and the column \"HolidayName\" will probably have to be modified in some way as well.\n",
        "\n",
        "Finally, other additional columns could be added if some unexpected necessities arise after I start to use these dimension tables on PowerBI projects."
      ],
      "metadata": {
        "id": "X2r71_cEtFs3"
      }
    },
    {
      "cell_type": "markdown",
      "source": [
        "## The Code\n",
        "If you want to modify what the output table contains, here is an explanation in detail of the contents:"
      ],
      "metadata": {
        "id": "PwK1yari1RPf"
      }
    },
    {
      "cell_type": "markdown",
      "source": [
        "### Importing Libraries\n",
        "Only pandas and numpy are necesary"
      ],
      "metadata": {
        "id": "EUo2Se3U17hV"
      }
    },
    {
      "cell_type": "code",
      "source": [
        "import pandas as pd\n",
        "import numpy as np"
      ],
      "metadata": {
        "id": "A-KFX0HL2vaZ"
      },
      "execution_count": null,
      "outputs": []
    },
    {
      "cell_type": "markdown",
      "source": [
        "### Defining Date Range\n",
        "Right now the table will have all days between January 1st, 2023 and Dicember 31, 2023. If you prefer a different date range just modify the variables start_date and end_date."
      ],
      "metadata": {
        "id": "q1JpCuAd2yyi"
      }
    },
    {
      "cell_type": "code",
      "source": [
        "# Define the date range\n",
        "start_date = '2023-01-01'\n",
        "end_date = '2023-12-31'\n",
        "\n",
        "# Create a date range\n",
        "date_range = pd.date_range(start_date, end_date)"
      ],
      "metadata": {
        "id": "SVcNSzMm3LVY"
      },
      "execution_count": null,
      "outputs": []
    },
    {
      "cell_type": "markdown",
      "source": [
        "### Creating the Dataframe for the Table\n",
        "First we create a dataframe called date_dim.\n",
        "Then we add all the attributes which don't need extra steps to add."
      ],
      "metadata": {
        "id": "PftJF_vD3fCk"
      }
    },
    {
      "cell_type": "code",
      "source": [
        "# Create a DataFrame\n",
        "date_dim = pd.DataFrame(date_range, columns=['Date'])\n",
        "\n",
        "# Add attributes\n",
        "date_dim['DateID'] = date_dim['Date'].dt.strftime('%Y%m%d').astype(int)\n",
        "date_dim['DateUSA']= date_dim['Date'].dt.strftime('%m/%d/%Y')\n",
        "date_dim['DateMex']= date_dim['Date'].dt.strftime('%d/%m/%Y')\n",
        "date_dim['DayNum'] = date_dim['Date'].dt.day\n",
        "date_dim['DayName'] = date_dim['Date'].dt.day_name()\n",
        "date_dim['Weekday'] = np.where(date_dim['Date'].dt.weekday < 5, 1, 0)\n",
        "date_dim['Week'] = date_dim['Date'].dt.isocalendar().week\n",
        "date_dim['Month'] = date_dim['Date'].dt.month\n",
        "date_dim['MonthName'] = date_dim['Date'].dt.strftime('%B')\n",
        "date_dim['Quarter'] = date_dim['Date'].dt.quarter\n",
        "date_dim['QuarterName'] = 'Q' + date_dim['Quarter'].astype(str)\n",
        "date_dim['Year'] = date_dim['Date'].dt.year\n",
        "date_dim['MonthYear']= date_dim['Date'].dt.strftime('%b-%Y')"
      ],
      "metadata": {
        "id": "i6dMaiRJ4dGP"
      },
      "execution_count": null,
      "outputs": []
    },
    {
      "cell_type": "markdown",
      "source": [
        "### Holidays\n",
        "First we make a table for all the holidays. If there are holidays you wish to remove or add, do it by modyfing object \"holidays\"."
      ],
      "metadata": {
        "id": "f58Xt4cA4ffe"
      }
    },
    {
      "cell_type": "code",
      "source": [
        "# Define holidays\n",
        "holidays = [\n",
        "    (1,1,\"New Year's Day\"),\n",
        "    (9,16,\"Mexico's Independence Day\"),\n",
        "    (12,25,\"Christmas Day\"),\n",
        "    (5,1,\"Labor Day (Mexico)\")\n",
        "]"
      ],
      "metadata": {
        "id": "7pH7FgOL5gB9"
      },
      "execution_count": null,
      "outputs": []
    },
    {
      "cell_type": "markdown",
      "source": [
        "Then we convert the holidays into a dictionary for easy retrieval.\n",
        "\n",
        "Then we create a temporary column called \"MonthDay\" where we extract the month and the day of the holiday.\n",
        "\n",
        "Then we map the holiday dictionary on the \"MonthDay\" to create the new \"HolidayName\" column.\n",
        "\n",
        "Then we create column \"IsHoliday\" by finding which days have a HolidayName asigned to them.\n",
        "\n",
        "And finally we delite the temporary column we created, just to keep things clean."
      ],
      "metadata": {
        "id": "UrJQ-ej65kF1"
      }
    },
    {
      "cell_type": "code",
      "source": [
        "# Convert holidays to a dictionary for easier lookup\n",
        "holiday_dict = {(month, day): name for month, day, name in holidays}\n",
        "\n",
        "# Extract month and day from the Date column\n",
        "date_dim['MonthDay'] = list(zip(date_dim['Date'].dt.month, date_dim['Date'].dt.day))\n",
        "\n",
        "# Check if the MonthDay is in the holiday dictionary and assign holiday names\n",
        "date_dim['HolidayName'] = date_dim['MonthDay'].map(holiday_dict)\n",
        "\n",
        "# Mark holidays with a boolean column\n",
        "date_dim['IsHoliday'] = date_dim['HolidayName'].notna().astype(int)\n",
        "\n",
        "# Drop the temporary MonthDay column\n",
        "date_dim = date_dim.drop(columns=['MonthDay'])"
      ],
      "metadata": {
        "id": "An1EalCg7Bk8"
      },
      "execution_count": null,
      "outputs": []
    },
    {
      "cell_type": "markdown",
      "source": [
        "Finally we reorder the columns so that it makes a bit more sense, print the first 10 days of the file to make sure the output is what we wanted, and finally save the Dataframe as the CSV file."
      ],
      "metadata": {
        "id": "Kcmcu_ah7CcT"
      }
    },
    {
      "cell_type": "code",
      "execution_count": null,
      "metadata": {
        "id": "w9zMx_i0boYc"
      },
      "outputs": [],
      "source": [
        "# Reorder columns\n",
        "date_dim = date_dim[['DateID', 'Date', 'DateMex', 'DateUSA', 'DayNum', 'DayName', 'Weekday', 'Week', 'Month', 'MonthName', 'Quarter', 'QuarterName', 'Year', 'MonthYear', 'IsHoliday', 'HolidayName']]\n",
        "\n",
        "# Display the DataFrame\n",
        "print(date_dim.head(10))\n",
        "\n",
        "# Save to CSV\n",
        "date_dim.to_csv('date_dimension.csv', index=False)"
      ]
    },
    {
      "cell_type": "markdown",
      "source": [
        "## Raw Code\n",
        "\n",
        "```python\n",
        "import pandas as pd\n",
        "import numpy as np\n",
        "\n",
        "# Define the date range\n",
        "start_date = '2023-01-01'\n",
        "end_date = '2023-12-31'\n",
        "\n",
        "# Create a date range\n",
        "date_range = pd.date_range(start_date, end_date)\n",
        "\n",
        "# Create a DataFrame\n",
        "date_dim = pd.DataFrame(date_range, columns=['Date'])\n",
        "\n",
        "# Add attributes\n",
        "date_dim['DateID'] = date_dim['Date'].dt.strftime('%Y%m%d').astype(int)\n",
        "date_dim['DateUSA']= date_dim['Date'].dt.strftime('%m/%d/%Y')\n",
        "date_dim['DateMex']= date_dim['Date'].dt.strftime('%d/%m/%Y')\n",
        "date_dim['DayNum'] = date_dim['Date'].dt.day\n",
        "date_dim['DayName'] = date_dim['Date'].dt.day_name()\n",
        "date_dim['Weekday'] = np.where(date_dim['Date'].dt.weekday < 5, 1, 0)\n",
        "date_dim['Week'] = date_dim['Date'].dt.isocalendar().week\n",
        "date_dim['Month'] = date_dim['Date'].dt.month\n",
        "date_dim['MonthName'] = date_dim['Date'].dt.strftime('%B')\n",
        "date_dim['Quarter'] = date_dim['Date'].dt.quarter\n",
        "date_dim['QuarterName'] = 'Q' + date_dim['Quarter'].astype(str)\n",
        "date_dim['Year'] = date_dim['Date'].dt.year\n",
        "date_dim['MonthYear']= date_dim['Date'].dt.strftime('%b-%Y')\n",
        "\n",
        "# Define holidays\n",
        "holidays = [\n",
        "    (1,1,\"New Year's Day\"),\n",
        "    (9,16,\"Mexico's Independence Day\"),\n",
        "    (12,25,\"Christmas Day\"),\n",
        "    (5,1,\"Labor Day (Mexico)\")\n",
        "]\n",
        "\n",
        "# Convert holidays to a dictionary for easier lookup\n",
        "holiday_dict = {(month, day): name for month, day, name in holidays}\n",
        "\n",
        "# Extract month and day from the Date column\n",
        "date_dim['MonthDay'] = list(zip(date_dim['Date'].dt.month, date_dim['Date'].dt.day))\n",
        "\n",
        "# Check if the MonthDay is in the holiday dictionary and assign holiday names\n",
        "date_dim['HolidayName'] = date_dim['MonthDay'].map(holiday_dict)\n",
        "\n",
        "# Mark holidays with a boolean column\n",
        "date_dim['IsHoliday'] = date_dim['HolidayName'].notna().astype(int)\n",
        "\n",
        "# Drop the temporary MonthDay column\n",
        "date_dim = date_dim.drop(columns=['MonthDay'])\n",
        "\n",
        "# Reorder columns\n",
        "date_dim = date_dim[['DateID', 'Date', 'DateMex', 'DateUSA', 'DayNum', 'DayName', 'Weekday', 'Week', 'Month', 'MonthName', 'Quarter', 'QuarterName', 'Year', 'MonthYear', 'IsHoliday', 'HolidayName']]\n",
        "\n",
        "# Display the DataFrame\n",
        "print(date_dim.head(10))\n",
        "\n",
        "# Save to CSV\n",
        "date_dim.to_csv('date_dimension.csv', index=False)\n",
        "```"
      ],
      "metadata": {
        "id": "hbbQs14gsisD"
      }
    }
  ]
}